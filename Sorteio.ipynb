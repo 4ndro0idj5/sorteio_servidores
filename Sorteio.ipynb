{
  "nbformat": 4,
  "nbformat_minor": 0,
  "metadata": {
    "colab": {
      "provenance": [],
      "authorship_tag": "ABX9TyMQ5CywPVm7QL0/T15R2CVc"
    },
    "kernelspec": {
      "name": "python3",
      "display_name": "Python 3"
    },
    "language_info": {
      "name": "python"
    }
  },
  "cells": [
    {
      "cell_type": "code",
      "execution_count": 4,
      "metadata": {
        "colab": {
          "base_uri": "https://localhost:8080/"
        },
        "id": "sFdaVAXOv2J0",
        "outputId": "8784d980-1260-4e73-bdbe-02301149555e"
      },
      "outputs": [
        {
          "output_type": "stream",
          "name": "stdout",
          "text": [
            "Looking in indexes: https://pypi.org/simple, https://us-python.pkg.dev/colab-wheels/public/simple/\n",
            "Requirement already satisfied: python-docx in /usr/local/lib/python3.8/dist-packages (0.8.11)\n",
            "Requirement already satisfied: lxml>=2.3.2 in /usr/local/lib/python3.8/dist-packages (from python-docx) (4.9.2)\n"
          ]
        }
      ],
      "source": [
        "!pip install python-docx\n"
      ]
    },
    {
      "cell_type": "code",
      "source": [
        "from docx import Document\n",
        "import random\n"
      ],
      "metadata": {
        "id": "4yPhkonq685Q"
      },
      "execution_count": 3,
      "outputs": []
    },
    {
      "cell_type": "code",
      "source": [
        "documento = Document(\"servidores.docx\")\n",
        "linhas = []\n",
        "for paragrafo in documento.paragraphs:\n",
        "  linhas.append(paragrafo.text)\n",
        "\n",
        "while(\"\" in linhas) : \n",
        "  linhas.remove(\"\")\n",
        "\n",
        "\n",
        "mesa_index = linhas.index('FISCAIS DE MESA')\n",
        "sala_index = linhas.index('FISCAIS DE SALA')\n",
        "itinerantes_index = linhas.index('ITINERANTES')\n",
        "\n",
        "\n",
        "serv_mesa = []\n",
        "for i in range(mesa_index + 1,sala_index):\n",
        "  serv_mesa.append(linhas[i])\n",
        "\n",
        "\n",
        "\n",
        "serv_sala = []\n",
        "for i in range(sala_index + 1,itinerantes_index):\n",
        "  serv_sala.append(linhas[i])\n",
        "\n",
        "\n",
        "serv_itinerantes = []\n",
        "for i in range(itinerantes_index + 1,len(linhas)):\n",
        "  serv_itinerantes.append(linhas[i])\n",
        "\n",
        "m = input(f\"Digite o número de fiscais de mesa(menor que {len(serv_mesa)}) a serem sorteados: \")\n",
        "\n",
        "s = input(f\"Digite o número de fiscais de sala(menor que {len(serv_sala)}) a serem sorteados: \")\n",
        "\n",
        "i = input(f\"Digite o número de itinerantes(menor que {len(serv_itinerantes)}) a serem sorteados: \")\n",
        "\n",
        "print('Servidores de mesa sorteados: ')\n",
        "mesa_sorteados = []\n",
        "while len(mesa_sorteados) < int(m):\n",
        "  mesa_sorteado = serv_mesa[random.randrange(0,len(serv_mesa))]\n",
        "  if mesa_sorteado not in mesa_sorteados:\n",
        "    mesa_sorteados.append(mesa_sorteado)\n",
        "    print(f\"{len(mesa_sorteados)}° servidor de mesa sorteado: \"+mesa_sorteado)\n",
        "\n",
        "print('Servidores de sala sorteados: ')\n",
        "sala_sorteados = []\n",
        "while len(sala_sorteados) < int(s):\n",
        "  sala_sorteado = serv_sala[random.randrange(0,len(serv_sala))]\n",
        "  if sala_sorteado not in sala_sorteados:\n",
        "    sala_sorteados.append(sala_sorteado)\n",
        "    print(f\"{len(sala_sorteados)}° servidor de sala sorteado: \"+sala_sorteado)\n",
        "\n",
        "print('Servidores de itinerantes sorteados: ')\n",
        "itinerantes_sorteados = []\n",
        "while len(itinerantes_sorteados) < int(i):\n",
        "  itinerantes_sorteado = serv_itinerantes[random.randrange(0,len(serv_itinerantes))]\n",
        "  if itinerantes_sorteado not in itinerantes_sorteados:\n",
        "    itinerantes_sorteados.append(itinerantes_sorteado)\n",
        "    print(f\"{len(itinerantes_sorteados)}° servidor itinerante sorteado: \"+itinerantes_sorteado)"
      ],
      "metadata": {
        "id": "GfjaHrQXW-VR"
      },
      "execution_count": null,
      "outputs": []
    }
  ]
}
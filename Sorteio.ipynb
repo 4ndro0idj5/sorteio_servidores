{
  "nbformat": 4,
  "nbformat_minor": 0,
  "metadata": {
    "colab": {
      "provenance": [],
      "authorship_tag": "ABX9TyP+l3hQHBRaMxehYf3iIkKv",
      "include_colab_link": true
    },
    "kernelspec": {
      "name": "python3",
      "display_name": "Python 3"
    },
    "language_info": {
      "name": "python"
    }
  },
  "cells": [
    {
      "cell_type": "markdown",
      "metadata": {
        "id": "view-in-github",
        "colab_type": "text"
      },
      "source": [
        "<a href=\"https://colab.research.google.com/github/4ndro0idj5/sorteio_servidores/blob/main/Sorteio.ipynb\" target=\"_parent\"><img src=\"https://colab.research.google.com/assets/colab-badge.svg\" alt=\"Open In Colab\"/></a>"
      ]
    },
    {
      "cell_type": "code",
      "execution_count": null,
      "metadata": {
        "colab": {
          "base_uri": "https://localhost:8080/"
        },
        "id": "sFdaVAXOv2J0",
        "outputId": "ee56eea6-fe29-4f56-8905-01565dc23d1c"
      },
      "outputs": [
        {
          "output_type": "stream",
          "name": "stdout",
          "text": [
            "Looking in indexes: https://pypi.org/simple, https://us-python.pkg.dev/colab-wheels/public/simple/\n",
            "Collecting python-docx\n",
            "  Downloading python-docx-0.8.11.tar.gz (5.6 MB)\n",
            "\u001b[K     |████████████████████████████████| 5.6 MB 3.7 MB/s \n",
            "\u001b[?25hRequirement already satisfied: lxml>=2.3.2 in /usr/local/lib/python3.7/dist-packages (from python-docx) (4.9.1)\n",
            "Building wheels for collected packages: python-docx\n",
            "  Building wheel for python-docx (setup.py) ... \u001b[?25l\u001b[?25hdone\n",
            "  Created wheel for python-docx: filename=python_docx-0.8.11-py3-none-any.whl size=184507 sha256=5e165120a074c0fad9b5decfb508ceddb2bfa5889f8b26af157cb7690a8f6a67\n",
            "  Stored in directory: /root/.cache/pip/wheels/f6/6f/b9/d798122a8b55b74ad30b5f52b01482169b445fbb84a11797a6\n",
            "Successfully built python-docx\n",
            "Installing collected packages: python-docx\n",
            "Successfully installed python-docx-0.8.11\n"
          ]
        }
      ],
      "source": [
        "pip install python-docx\n"
      ]
    },
    {
      "cell_type": "code",
      "source": [
        "from docx import Document\n",
        "import random\n"
      ],
      "metadata": {
        "id": "4yPhkonq685Q"
      },
      "execution_count": null,
      "outputs": []
    },
    {
      "cell_type": "code",
      "source": [
        "documento = Document(\"servidores.docx\")\n",
        "linhas = []\n",
        "for paragrafo in documento.paragraphs:\n",
        "  linhas.append(paragrafo.text)\n",
        "\n",
        "while(\"\" in linhas) : \n",
        "  linhas.remove(\"\")\n",
        "\n",
        "\n",
        "mesa_index = linhas.index('FISCAIS DE MESA')\n",
        "sala_index = linhas.index('FISCAIS DE SALA')\n",
        "itinerantes_index = linhas.index('ITINERANTES')\n",
        "\n",
        "\n",
        "serv_mesa = []\n",
        "for i in range(mesa_index + 1,sala_index):\n",
        "  serv_mesa.append(linhas[i])\n",
        "\n",
        "\n",
        "\n",
        "serv_sala = []\n",
        "for i in range(sala_index + 1,itinerantes_index):\n",
        "  serv_sala.append(linhas[i])\n",
        "\n",
        "\n",
        "serv_itinerantes = []\n",
        "for i in range(itinerantes_index + 1,len(linhas)):\n",
        "  serv_itinerantes.append(linhas[i])\n",
        "\n",
        "m = input(f\"Digite o número de fiscais de mesa(menor que {len(serv_mesa)}) a serem sorteados: \")\n",
        "\n",
        "s = input(f\"Digite o número de fiscais de sala(menor que {len(serv_sala)}) a serem sorteados: \")\n",
        "\n",
        "i = input(f\"Digite o número de itinerantes(menor que {len(serv_itinerantes)}) a serem sorteados: \")\n",
        "\n",
        "print('Servidores de mesa sorteados: ')\n",
        "mesa_sorteados = []\n",
        "while len(mesa_sorteados) < int(m):\n",
        "  mesa_sorteado = serv_mesa[random.randrange(0,len(serv_mesa))]\n",
        "  if mesa_sorteado not in mesa_sorteados:\n",
        "    mesa_sorteados.append(mesa_sorteado)\n",
        "    print(f\"{len(mesa_sorteados)}° servidor de mesa sorteado: \"+mesa_sorteado)\n",
        "\n",
        "print('Servidores de sala sorteados: ')\n",
        "sala_sorteados = []\n",
        "while len(sala_sorteados) < int(s):\n",
        "  sala_sorteado = serv_sala[random.randrange(0,len(serv_sala))]\n",
        "  if sala_sorteado not in sala_sorteados:\n",
        "    sala_sorteados.append(sala_sorteado)\n",
        "    print(f\"{len(sala_sorteados)}° servidor de sala sorteado: \"+sala_sorteado)\n",
        "\n",
        "print('Servidores de itinerantes sorteados: ')\n",
        "itinerantes_sorteados = []\n",
        "while len(itinerantes_sorteados) < int(i):\n",
        "  itinerantes_sorteado = serv_itinerantes[random.randrange(0,len(serv_itinerantes))]\n",
        "  if itinerantes_sorteado not in itinerantes_sorteados:\n",
        "    itinerantes_sorteados.append(itinerantes_sorteado)\n",
        "    print(f\"{len(itinerantes_sorteados)}° servidor itinerante sorteado: \"+itinerantes_sorteado)"
      ],
      "metadata": {
        "colab": {
          "base_uri": "https://localhost:8080/"
        },
        "id": "P74qbBDF7Blw",
        "outputId": "2092f17e-d963-4566-fc7a-56a778042662"
      },
      "execution_count": null,
      "outputs": [
        {
          "output_type": "stream",
          "name": "stdout",
          "text": [
            "Digite o número de fiscais de mesa(menor que 26) a serem sorteados: 10\n",
            "Digite o número de fiscais de sala(menor que 34) a serem sorteados: 15\n",
            "Digite o número de itinerantes(menor que 14) a serem sorteados: 8\n",
            "Servidores de mesa sorteados: \n",
            "1° servidor de mesa sorteado: FRANCISCO PEDRO BARRETO PEREIRA 31463\n",
            "2° servidor de mesa sorteado: FRANCYELLE MOREIRA FREITAS DA SILVA 27531\n",
            "3° servidor de mesa sorteado: PAULA DE OLIVEIRA HENRIQUES 31860\n",
            "4° servidor de mesa sorteado: BEATRIZ BETTIOL OYAMA 28474\n",
            "5° servidor de mesa sorteado: EDUARDO MENDES KALIL GANM 3326\n",
            "6° servidor de mesa sorteado: MARTHA ALVES 3707\n",
            "7° servidor de mesa sorteado: LAÍSE CERQUEIRA DE SOUZA 30363\n",
            "8° servidor de mesa sorteado: ANDREZA MEIRELES DA SILVA ANTONIO VIEIRA 30426\n",
            "9° servidor de mesa sorteado: JULIANA DE CARVALHO DOS SANTOS 23452\n",
            "10° servidor de mesa sorteado: EDUARDO DINIZ SOUSA BATISTA 27609\n",
            "Servidores de sala sorteados: \n",
            "1° servidor de sala sorteado: ROBERTA MINIATI RICCOBENE COSTA 22408\n",
            "2° servidor de sala sorteado: HÉLIO LUIZ DE ALMEIDA 6223\n",
            "3° servidor de sala sorteado: ISRAEL NERY VILLON DA COSTA 26570\n",
            "4° servidor de sala sorteado: DEISE LIMA GOMES FERNANDES 9883\n",
            "5° servidor de sala sorteado: MARCOS HENRIQUE GOUVEIA 6070\n",
            "6° servidor de sala sorteado: ALBA VALÉRIA RAMOS PEREIRA EVANGELISTA 15940\n",
            "7° servidor de sala sorteado: TEREZINHA NEVES CARDOSO DE FIGUEIREDO 19762\n",
            "8° servidor de sala sorteado: EMILIA ROSA DA COSTA CHAVES 28289\n",
            "9° servidor de sala sorteado: ÉRIKA DE SOUZA ARAÚJO 25581\n",
            "10° servidor de sala sorteado: SANDRO FERREIRA TAVARES 24860\n",
            "11° servidor de sala sorteado: KÊNIA CRISTINA MARTINS ALVES 6345\n",
            "12° servidor de sala sorteado: SEBASTIÃO JOSÉ DA SILVA 3002\n",
            "13° servidor de sala sorteado: PATRÍCIA COSTA DE ALMEIDA 19811\n",
            "14° servidor de sala sorteado: MARIA DE JESUS DOS SANTOS CARVALHO 3149\n",
            "15° servidor de sala sorteado: LILIAN PORTO MAGGETTO 3217\n",
            "Servidores de itinerantes sorteados: \n",
            "1° servidor itinerante sorteado: JÚLIO OTAVIANO DA SILVA FRANCO 10852\n",
            "2° servidor itinerante sorteado: PEDRO PAULO BRITO DA SILVA 19736\n",
            "3° servidor itinerante sorteado: GLAUCO CAVALCANTE DA SILVA 9881\n",
            "4° servidor itinerante sorteado: DEIVEISON TADEU DA SILVA 19752\n",
            "5° servidor itinerante sorteado: JOSÉ MAURÍCIO SANTOS LIMA CARDOZO 22436\n",
            "6° servidor itinerante sorteado: GLARISTON COSTA BASTOS 7673\n",
            "7° servidor itinerante sorteado: MÁRCIO DE DEUS PINNA 2667\n",
            "8° servidor itinerante sorteado: JOSÉ RONALD RANGEL RIBEIRO 3687\n"
          ]
        }
      ]
    }
  ]
}